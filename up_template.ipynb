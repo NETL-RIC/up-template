{
 "cells": [
  {
   "cell_type": "markdown",
   "metadata": {},
   "source": [
    "![](resources/banner.png)\n",
    "\n",
    "# Welcome to the Jupyter Notebook Unit Process Template\n",
    "Last updated: 2024-10-30 <br />\n",
    "Version: 3.0.0\n"
   ]
  },
  {
   "cell_type": "markdown",
   "metadata": {},
   "source": [
    "## Overview"
   ]
  },
  {
   "cell_type": "markdown",
   "metadata": {},
   "source": [
    "This template provides an interactive tool for creating, modifying, and reporting life cycle analysis (LCA) unit processes (UP) by connecting you to either an existing and active openLCA (v.2) project (via IPC Server) or an exported JSON-LD zip file of an openLCA product system.\n",
    "After reviewing your UP, a report view may be generated for publication purposes.\n",
    "\n",
    "There are three sections that make up this template:\n",
    "\n",
    "| Section | Purpose |\n",
    "| :------ | :------ |\n",
    "| Instructions | Brief user guide to getting started with this template. |\n",
    "| Definitions | Holds all of the template's functionality, is written in Python, and loaded by executing the code cell. |\n",
    "| Interface | Main interaction between a user and their project, provides functions for review and editing. |\n"
   ]
  },
  {
   "cell_type": "markdown",
   "metadata": {},
   "source": [
    "## Instructions"
   ]
  },
  {
   "cell_type": "markdown",
   "metadata": {},
   "source": [
    "A new (or existing) unit process begins in openLCA (&copy; 2022 GreenDelta), in version 2.0 (or greater).\n",
    "Separate instructions are available for getting started with and working in openLCA.\n",
    "The minimum requirements for an openLCA project are:\n",
    "\n",
    "* A database (.zolca or JSON-LD) with a product system that references a process, which is the unit process you wish to model.\n",
    "* Input and output product and elementary flows for the unit process.\n",
    "* A single output product defining the functional unit of your unit process.\n",
    "* An optional Excel workbook of calculations using the template provided for recording parameters, formulas, values, units, explanations, and references.\n",
    "\n",
    "A Python 3.11 (or greater) environment is required with package dependencies installed as described in the README.md file in the netlolca Python package.\n",
    "At minimum the following dependencies should be installed in your Python environment:\n",
    "\n",
    "* [olca-ipc](https://pypi.org/project/olca-ipc/)\n",
    "* [pandas](https://pypi.org/project/pandas/)\n",
    "* [jupyterlab](https://pypi.org/project/jupyterlab/)\n",
    "* [yaml](https://pyyaml.org/wiki/PyYAMLDocumentation)\n",
    "\n",
    "**Note:**  Additionally, report generation uses **[pandoc](https://pandoc.org/)** to convert the generated report from markdown to formats such as .pdf, .docx, .html. If you intend on generating a report in within your session with this notebook, please make sure to install this tool on your system.\n",
    "\n",
    "With the above packages installed, the Jupyter Notebook environment may be started.\n",
    "The following provides a brief summary of instructions to get you started.\n",
    "\n",
    "1.  Create a copy of this Jupyter notebook (.ipynb) and give the new file a meaningful name (e.g., the product system / unit process name).\n",
    "1.  Move or copy your calculations workbook into the calculations directory.\n",
    "1.  Open the Jupyter Notebook using Jupyter Lab.\n",
    "\n",
    "    For example, on the terminal (or command line), type `jupyter lab` and use the File Browser to find your notebook file.\n",
    "    Double-click to open in Launcher.\n",
    "1.  Run the code cell found in the Definitions section of this notebook.\n",
    "\n",
    "    This loads all the source code necessary for running the template.\n",
    "1.  Run the code cell found in the Interface section of this notebook and follow the prompts to connect to a file ('1' &rarr; '1b') or to an openLCA project ('2' &rarr; '2b').\n",
    "\n",
    "    You will be prompted to select your unit process from the list of product systems found in your openLCA database or JSON-LD file.\n",
    "    \n",
    "    Once the unit process is selected, use the main menu to review report (option '3'), reselect your unit process (option 'o' &rarr; 'p'), and generate a report (option '4').\n",
    "    Note that the output report is, by default, saved to the \"output\" folder with the same name as the unit process you selected.\n",
    "\n",
    "    At any time, just hit return (or Enter) on your keyboard for the main menu options.\n",
    "\n",
    "    Each menu option has help text that you can request using the 'h' with the menu option in parentheses: 'h(1)' for help with connect.\n",
    "1.  Type 'q' anytime to quit the interface.\n",
    "1.  Save the notebook and shutdown the Jupyter Notebook server when you are finished.\n",
    "\n",
    "**Refine your report:**\n",
    "If you find information missing (e.g., in the documentation section), you can make a report edit (i.e., not saved in the openLCA database or JSON-LD).\n",
    "\n",
    "The '4b' option in the interface generates a [markdown](https://daringfireball.net/projects/markdown/) formatted plain text file.\n",
    "This basic style is the foundation for each other report format (e.g., HTML, Microsoft Word, and PDF) and is easily edited in Jupyter Lab (or any text editor).\n",
    "Changes may be made to the markdown version of the report, saved, and used to generated other formats---even without connecting to an openLCA project or JSON-LD (assuming the markdown report already exists).\n",
    "\n",
    "The publication methods (e.g., '5a', '5b', and '5c') read the markdown file and convert them to their alternative file format using the NETL templates provided.\n",
    "\n",
    "If you write to markdown again (e.g., '4b') all edits made to the markdown file outside this application will be overwritten!\n",
    "You can always see what is in the markdown file by printing the report ('4a').\n",
    "If you are running this app after you already created a markdown, and '4a' says you should write first, you can use '4c' to read the existing file without overwriting.\n",
    "\n",
    "Example: If you have exited the interface section, you can open the .md file that was created and fix a typo or add missing information that you correct and save (e.g., ctrl+s or File &rarr; Save Markdown File).\n",
    "In a new code cell, you can run each of the following lines to generate a new HTML file.\n",
    "\n",
    "```python\n",
    ">>> mc.rd.get_file_path()   # see where unit process file is\n",
    ">>> mc.rd.convert_to_html() # reads .md and translates to .html\n",
    "```\n",
    "\n",
    "**Warning:**\n",
    "Re-saving to markdown (option '4b') will overwrite any changes you made to the text file."
   ]
  },
  {
   "cell_type": "markdown",
   "metadata": {},
   "source": [
    "## Glossary"
   ]
  },
  {
   "cell_type": "markdown",
   "metadata": {},
   "source": [
    "### Elementary flow\n",
    "Material or energy entering or exiting a system that is drawn from or emitted to the environment without additional transformation (i.e., a pure flow).\n",
    "\n",
    "### Functional unit\n",
    "A measurement that ideally bridges a product system's function (i.e., what the system does) to its inventory (i.e., the system's inputs and outputs).\n",
    "\n",
    "### ipynb\n",
    "This is a special file extention to describe an <span style=\"color:crimson;font-style:italic\">i</span>nteractive <span style=\"color:crimson;font-style:italic\">py</span>thon <span style=\"color:crimson;font-style:italic\">n</span>ote<span style=\"color:crimson;font-style:italic\">b</span>ook, which is essentially a JavaScript Object Notation (JSON) formatted file.\n",
    "\n",
    "### JSON\n",
    "A plain text file written in JavaScript Object Notation, an open standard format designed for both human and computer readability.\n",
    "\n",
    "### Life cycle inventory\n",
    "A quantitative account of total inputs and outputs for a given process without the consideration of impacts.\n",
    "\n",
    "### Notebook\n",
    "A Jupyter Notebook is essentially a file (.ipynb) and software (Jupyter) to integrate documentation, code, and its outputs into a single document.\n",
    "This type of document utilizes the web (i.e., HTML) such that it supports an array of multi-media, interactive tables and graphs, and links to other sources.\n",
    "\n",
    "### Process\n",
    "An activity that transforms inputs into outputs.\n",
    "\n",
    "### Product\n",
    "A good or service.\n",
    "\n",
    "### Product system\n",
    "A collection of processes that provide a certain function.\n",
    "\n",
    "### Project Jupyter\n",
    "An open source software and standard for interactive computing environments for a variety of computer languages (e.g., Python, R, and Julia).\n",
    "\n",
    "### Unit Process\n",
    "The smallest process within a product system's design where inputs and outputs are quantified.\n"
   ]
  },
  {
   "cell_type": "markdown",
   "metadata": {},
   "source": [
    "# Definitions\n",
    "This section of the notebook defines the background processes and modeling.\n",
    "There should be no need for you (the user) to modify this code; however, you will need to run the code cells within this section in order to begin the interface and display sections."
   ]
  },
  {
   "cell_type": "code",
   "execution_count": null,
   "metadata": {},
   "outputs": [],
   "source": [
    "from up_template import Interface\n",
    "from up_template import get_logger"
   ]
  },
  {
   "cell_type": "markdown",
   "metadata": {},
   "source": [
    "# Interface\n",
    "Connect to an openLCA project either directly (via IPC) or through an exported project file (JSON-LD) to review and modify a unit process."
   ]
  },
  {
   "cell_type": "code",
   "execution_count": null,
   "metadata": {},
   "outputs": [
    {
     "name": "stdout",
     "output_type": "stream",
     "text": [
      "(h for help) >  2\n"
     ]
    },
    {
     "name": "stdout",
     "output_type": "stream",
     "text": [
      "---------------------------------\n",
      "CONNECTION MENU: Select an option\n",
      "---------------------------------\n",
      "2a ..... define the server port number\n",
      "2b ..... connect to openLCA server\n",
      " m ..... main menu\n",
      " q ..... quit\n"
     ]
    },
    {
     "name": "stdout",
     "output_type": "stream",
     "text": [
      "(h for help) >  1b\n"
     ]
    },
    {
     "name": "stdout",
     "output_type": "stream",
     "text": [
      "-------------------\n",
      "Select project file\n",
      "-------------------\n"
     ]
    },
    {
     "name": "stdout",
     "output_type": "stream",
     "text": [
      "1 ... ELCI_1_jsonld_20240925_no-uncertainty.zip\n",
      "2 ... ELCI_2022_jsonld_20240925_eia.zip\n",
      "3 ... ELCI_2022_jsonld_20240926_eba.zip\n",
      "4 ... ELCI_2022_jsonld_20240926_eia_w_coal.zip\n",
      "5 ... Federal_LCA_Commons-US_electricity_baseline.zip\n",
      "6 ... ercot_2030.zip\n",
      "7 ... msw2h2_bioc_output.zip\n",
      "8 ... poplar_cultivation.zip\n",
      "choose file >  6\n",
      "You entered '6', is this correct (y/n)?  y\n"
     ]
    },
    {
     "name": "stdout",
     "output_type": "stream",
     "text": [
      "Opening file 'data/ercot_2030.zip'\n",
      "Read UUIDs from file.\n",
      "----------------------------\n",
      "Select product system for UP\n",
      "----------------------------\n",
      "Product system set to 'Electricity; at user; consumption mix - Electric Reliability Council of Texas, Inc. - BA'\n",
      "Success!\n",
      "---------------------------\n",
      "MAIN MENU: Select an option\n",
      "---------------------------\n",
      " 3 ..... review data\n",
      " 4 ..... generate report\n",
      " 5 ..... publish report\n",
      " 6 ..... choose process type\n",
      " 7 ..... choose calculation workbook\n",
      " o ..... other options\n",
      " q ..... quit\n"
     ]
    }
   ],
   "source": [
    "if __name__ == '__main__':\n",
    "    logger = get_logger(\"INFO\")\n",
    "    mc = Interface()\n",
    "    mc.run()"
   ]
  }
 ],
 "metadata": {
  "kernelspec": {
   "display_name": "Python 3 (ipykernel)",
   "language": "python",
   "name": "python3"
  },
  "language_info": {
   "codemirror_mode": {
    "name": "ipython",
    "version": 3
   },
   "file_extension": ".py",
   "mimetype": "text/x-python",
   "name": "python",
   "nbconvert_exporter": "python",
   "pygments_lexer": "ipython3",
   "version": "3.12.10"
  }
 },
 "nbformat": 4,
 "nbformat_minor": 4
}
